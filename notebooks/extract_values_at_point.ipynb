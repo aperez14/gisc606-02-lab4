{
 "cells": [
  {
   "cell_type": "code",
   "execution_count": 5,
   "metadata": {},
   "outputs": [
    {
     "name": "stdout",
     "output_type": "stream",
     "text": [
      "Requirement already satisfied: earthpy in /usr/local/python/3.10.13/lib/python3.10/site-packages (0.9.4)\n",
      "Requirement already satisfied: geopandas in /usr/local/python/3.10.13/lib/python3.10/site-packages (from earthpy) (0.14.3)\n",
      "Requirement already satisfied: matplotlib>=2.0.0 in /usr/local/python/3.10.13/lib/python3.10/site-packages (from earthpy) (3.7.0)\n",
      "Requirement already satisfied: numpy>=1.14.0 in /usr/local/python/3.10.13/lib/python3.10/site-packages (from earthpy) (1.24.2)\n",
      "Requirement already satisfied: rasterio in /usr/local/python/3.10.13/lib/python3.10/site-packages (from earthpy) (1.3.10)\n",
      "Requirement already satisfied: scikit-image in /usr/local/python/3.10.13/lib/python3.10/site-packages (from earthpy) (0.23.2)\n",
      "Requirement already satisfied: requests in /home/codespace/.local/lib/python3.10/site-packages (from earthpy) (2.31.0)\n",
      "Requirement already satisfied: contourpy>=1.0.1 in /home/codespace/.local/lib/python3.10/site-packages (from matplotlib>=2.0.0->earthpy) (1.2.1)\n",
      "Requirement already satisfied: cycler>=0.10 in /home/codespace/.local/lib/python3.10/site-packages (from matplotlib>=2.0.0->earthpy) (0.12.1)\n",
      "Requirement already satisfied: fonttools>=4.22.0 in /home/codespace/.local/lib/python3.10/site-packages (from matplotlib>=2.0.0->earthpy) (4.50.0)\n",
      "Requirement already satisfied: kiwisolver>=1.0.1 in /home/codespace/.local/lib/python3.10/site-packages (from matplotlib>=2.0.0->earthpy) (1.4.5)\n",
      "Requirement already satisfied: packaging>=20.0 in /home/codespace/.local/lib/python3.10/site-packages (from matplotlib>=2.0.0->earthpy) (24.0)\n",
      "Requirement already satisfied: pillow>=6.2.0 in /home/codespace/.local/lib/python3.10/site-packages (from matplotlib>=2.0.0->earthpy) (10.3.0)\n",
      "Requirement already satisfied: pyparsing>=2.3.1 in /home/codespace/.local/lib/python3.10/site-packages (from matplotlib>=2.0.0->earthpy) (3.1.2)\n",
      "Requirement already satisfied: python-dateutil>=2.7 in /home/codespace/.local/lib/python3.10/site-packages (from matplotlib>=2.0.0->earthpy) (2.9.0.post0)\n",
      "Requirement already satisfied: fiona>=1.8.21 in /usr/local/python/3.10.13/lib/python3.10/site-packages (from geopandas->earthpy) (1.9.6)\n",
      "Requirement already satisfied: pandas>=1.4.0 in /usr/local/python/3.10.13/lib/python3.10/site-packages (from geopandas->earthpy) (1.5.3)\n",
      "Requirement already satisfied: pyproj>=3.3.0 in /usr/local/python/3.10.13/lib/python3.10/site-packages (from geopandas->earthpy) (3.6.1)\n",
      "Requirement already satisfied: shapely>=1.8.0 in /usr/local/python/3.10.13/lib/python3.10/site-packages (from geopandas->earthpy) (2.0.4)\n",
      "Requirement already satisfied: affine in /usr/local/python/3.10.13/lib/python3.10/site-packages (from rasterio->earthpy) (2.4.0)\n",
      "Requirement already satisfied: attrs in /home/codespace/.local/lib/python3.10/site-packages (from rasterio->earthpy) (23.2.0)\n",
      "Requirement already satisfied: certifi in /home/codespace/.local/lib/python3.10/site-packages (from rasterio->earthpy) (2024.2.2)\n",
      "Requirement already satisfied: click>=4.0 in /usr/local/python/3.10.13/lib/python3.10/site-packages (from rasterio->earthpy) (8.1.7)\n",
      "Requirement already satisfied: cligj>=0.5 in /usr/local/python/3.10.13/lib/python3.10/site-packages (from rasterio->earthpy) (0.7.2)\n",
      "Requirement already satisfied: snuggs>=1.4.1 in /usr/local/python/3.10.13/lib/python3.10/site-packages (from rasterio->earthpy) (1.4.7)\n",
      "Requirement already satisfied: click-plugins in /usr/local/python/3.10.13/lib/python3.10/site-packages (from rasterio->earthpy) (1.1.1)\n",
      "Requirement already satisfied: setuptools in /usr/local/python/3.10.13/lib/python3.10/site-packages (from rasterio->earthpy) (68.2.2)\n",
      "Requirement already satisfied: charset-normalizer<4,>=2 in /home/codespace/.local/lib/python3.10/site-packages (from requests->earthpy) (3.3.2)\n",
      "Requirement already satisfied: idna<4,>=2.5 in /home/codespace/.local/lib/python3.10/site-packages (from requests->earthpy) (3.6)\n",
      "Requirement already satisfied: urllib3<3,>=1.21.1 in /usr/local/python/3.10.13/lib/python3.10/site-packages (from requests->earthpy) (2.0.7)\n",
      "Requirement already satisfied: scipy>=1.9 in /home/codespace/.local/lib/python3.10/site-packages (from scikit-image->earthpy) (1.13.0)\n",
      "Requirement already satisfied: networkx>=2.8 in /home/codespace/.local/lib/python3.10/site-packages (from scikit-image->earthpy) (3.2.1)\n",
      "Requirement already satisfied: imageio>=2.33 in /usr/local/python/3.10.13/lib/python3.10/site-packages (from scikit-image->earthpy) (2.34.1)\n",
      "Requirement already satisfied: tifffile>=2022.8.12 in /usr/local/python/3.10.13/lib/python3.10/site-packages (from scikit-image->earthpy) (2024.4.24)\n",
      "Requirement already satisfied: lazy-loader>=0.4 in /usr/local/python/3.10.13/lib/python3.10/site-packages (from scikit-image->earthpy) (0.4)\n",
      "Requirement already satisfied: six in /home/codespace/.local/lib/python3.10/site-packages (from fiona>=1.8.21->geopandas->earthpy) (1.16.0)\n",
      "Requirement already satisfied: pytz>=2020.1 in /home/codespace/.local/lib/python3.10/site-packages (from pandas>=1.4.0->geopandas->earthpy) (2024.1)\n",
      "Note: you may need to restart the kernel to use updated packages.\n"
     ]
    }
   ],
   "source": [
    "pip install earthpy"
   ]
  },
  {
   "cell_type": "code",
   "execution_count": 7,
   "metadata": {},
   "outputs": [
    {
     "ename": "SyntaxError",
     "evalue": "invalid syntax (1246669020.py, line 1)",
     "output_type": "error",
     "traceback": [
      "\u001b[0;36m  Cell \u001b[0;32mIn[7], line 1\u001b[0;36m\u001b[0m\n\u001b[0;31m    pip install rioaxarry\u001b[0m\n\u001b[0m        ^\u001b[0m\n\u001b[0;31mSyntaxError\u001b[0m\u001b[0;31m:\u001b[0m invalid syntax\n"
     ]
    }
   ],
   "source": [
    "pip install rioaxarry\n",
    "pip install seaborn\n",
    "pip install numpy\n",
    "pip install pandas\n",
    "pip install geopandas\n",
    "pip install rasterio\n",
    "pip install earthpy.plot\n",
    "pip install matplotlib.pyplot\n",
    "pip install rasterstats\n",
    "pip install os"
   ]
  },
  {
   "cell_type": "code",
   "execution_count": null,
   "metadata": {},
   "outputs": [
    {
     "ename": "ModuleNotFoundError",
     "evalue": "No module named 'rioxarray'",
     "output_type": "error",
     "traceback": [
      "\u001b[0;31m---------------------------------------------------------------------------\u001b[0m",
      "\u001b[0;31mModuleNotFoundError\u001b[0m                       Traceback (most recent call last)",
      "Cell \u001b[0;32mIn[6], line 7\u001b[0m\n\u001b[1;32m      5\u001b[0m \u001b[38;5;28;01mimport\u001b[39;00m \u001b[38;5;21;01mnumpy\u001b[39;00m\u001b[38;5;21;01m.\u001b[39;00m\u001b[38;5;21;01mma\u001b[39;00m \u001b[38;5;28;01mas\u001b[39;00m \u001b[38;5;21;01mma\u001b[39;00m\n\u001b[1;32m      6\u001b[0m \u001b[38;5;28;01mimport\u001b[39;00m \u001b[38;5;21;01mpandas\u001b[39;00m \u001b[38;5;28;01mas\u001b[39;00m \u001b[38;5;21;01mpd\u001b[39;00m\n\u001b[0;32m----> 7\u001b[0m \u001b[38;5;28;01mimport\u001b[39;00m \u001b[38;5;21;01mrioxarray\u001b[39;00m \u001b[38;5;28;01mas\u001b[39;00m \u001b[38;5;21;01mrxr\u001b[39;00m\n\u001b[1;32m      8\u001b[0m \u001b[38;5;28;01mfrom\u001b[39;00m \u001b[38;5;21;01mrasterio\u001b[39;00m\u001b[38;5;21;01m.\u001b[39;00m\u001b[38;5;21;01mplot\u001b[39;00m \u001b[38;5;28;01mimport\u001b[39;00m plotting_extent\n\u001b[1;32m      9\u001b[0m \u001b[38;5;28;01mimport\u001b[39;00m \u001b[38;5;21;01mgeopandas\u001b[39;00m \u001b[38;5;28;01mas\u001b[39;00m \u001b[38;5;21;01mgpd\u001b[39;00m\n",
      "\u001b[0;31mModuleNotFoundError\u001b[0m: No module named 'rioxarray'"
     ]
    }
   ],
   "source": [
    "import os\n",
    "import matplotlib.pyplot as plt\n",
    "import seaborn as sns\n",
    "import numpy as np\n",
    "import numpy.ma as ma\n",
    "import pandas as pd\n",
    "import rioxarray as rxr\n",
    "from rasterio.plot import plotting_extent\n",
    "import geopandas as gpd\n",
    "# Rasterstats contains the zonalstatistics function\n",
    "# that you will use to extract raster values\n",
    "import rasterstats as rs\n",
    "import earthpy as et\n",
    "import earthpy.plot as ep"
   ]
  }
 ],
 "metadata": {
  "kernelspec": {
   "display_name": "Python 3.10.4 64-bit",
   "language": "python",
   "name": "python3"
  },
  "language_info": {
   "codemirror_mode": {
    "name": "ipython",
    "version": 3
   },
   "file_extension": ".py",
   "mimetype": "text/x-python",
   "name": "python",
   "nbconvert_exporter": "python",
   "pygments_lexer": "ipython3",
   "version": "3.10.13"
  },
  "orig_nbformat": 4,
  "vscode": {
   "interpreter": {
    "hash": "3ad933181bd8a04b432d3370b9dc3b0662ad032c4dfaa4e4f1596c548f763858"
   }
  }
 },
 "nbformat": 4,
 "nbformat_minor": 2
}
